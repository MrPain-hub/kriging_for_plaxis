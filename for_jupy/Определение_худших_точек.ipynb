{
 "cells": [
  {
   "cell_type": "code",
   "execution_count": 1,
   "id": "272103f4-7865-405b-b08c-a0256cdfe8a4",
   "metadata": {},
   "outputs": [],
   "source": [
    "import numpy as np"
   ]
  },
  {
   "cell_type": "code",
   "execution_count": 6,
   "id": "450f3373-c123-4798-9450-67c52d17dbc3",
   "metadata": {},
   "outputs": [
    {
     "data": {
      "text/plain": [
       "(0.9428090415820635, array([ 2,  2, 12]), array([ 5,  5, 16]))"
      ]
     },
     "execution_count": 6,
     "metadata": {},
     "output_type": "execute_result"
    }
   ],
   "source": [
    "def get_settlement(points):\n",
    "        \"\"\"\n",
    "        Определение относительной разности\n",
    "        points[0] - x\n",
    "        points[1] - y\n",
    "        points[2] - value\n",
    "        \"\"\"\n",
    "        sett_max = 0\n",
    "        point_1_max = None\n",
    "        point_2_max = None\n",
    "\n",
    "        for i in range(len(points) - 1):\n",
    "            point_1 = points[i]\n",
    "\n",
    "            for j in range(i + 1, len(points)):\n",
    "                point_2 = points[j]\n",
    "\n",
    "                distance = ((point_1[1] - point_2[1]) ** 2 + (point_1[0] - point_2[0]) ** 2) ** (1 / 2)\n",
    "                d_uz = abs(point_1[2] - point_2[2])\n",
    "                sett = d_uz / distance\n",
    "\n",
    "                if sett_max < sett:\n",
    "                    sett_max = sett\n",
    "                    point_1_max = point_1.copy()\n",
    "                    point_2_max = point_2.copy()\n",
    "\n",
    "        return sett_max, point_1_max, point_2_max\n",
    "\n",
    "    \n",
    "# example\n",
    "points = np.array([[0, 0, 10],\n",
    "                   [1, 1, 11],\n",
    "                   [2, 2, 12],\n",
    "                   [5, 5, 16],\n",
    "                   [6, 6, 16]\n",
    "                  ])\n",
    "\n",
    "get_settlement(points)"
   ]
  },
  {
   "cell_type": "code",
   "execution_count": null,
   "id": "0f0cc3b6-adbc-47a7-990a-994170472c92",
   "metadata": {},
   "outputs": [],
   "source": []
  }
 ],
 "metadata": {
  "kernelspec": {
   "display_name": "Python 3 (ipykernel)",
   "language": "python",
   "name": "python3"
  },
  "language_info": {
   "codemirror_mode": {
    "name": "ipython",
    "version": 3
   },
   "file_extension": ".py",
   "mimetype": "text/x-python",
   "name": "python",
   "nbconvert_exporter": "python",
   "pygments_lexer": "ipython3",
   "version": "3.8.5"
  }
 },
 "nbformat": 4,
 "nbformat_minor": 5
}
