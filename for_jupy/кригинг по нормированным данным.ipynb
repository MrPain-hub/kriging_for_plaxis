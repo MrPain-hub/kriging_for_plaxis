{
 "cells": [
  {
   "cell_type": "code",
   "execution_count": 1,
   "id": "7ee78e15-655d-49e7-bada-4a56960f1337",
   "metadata": {},
   "outputs": [],
   "source": [
    "import pandas as pd\n",
    "import numpy as np\n",
    "from matplotlib import pyplot as plt"
   ]
  },
  {
   "cell_type": "code",
   "execution_count": 2,
   "id": "d201c293-4b20-4d45-929f-d05cc494abbe",
   "metadata": {},
   "outputs": [],
   "source": [
    "from pykrige.rk import RegressionKriging\n",
    "from pykrige.ok import OrdinaryKriging\n",
    "from pykrige.uk import UniversalKriging\n",
    "\n",
    "import warnings\n",
    "warnings.simplefilter(action='ignore')"
   ]
  },
  {
   "cell_type": "code",
   "execution_count": 3,
   "id": "7a7258a1-834e-4913-b5d7-4ce4e677e541",
   "metadata": {},
   "outputs": [],
   "source": [
    "from sklearn.model_selection import train_test_split\n",
    "from sklearn.metrics import r2_score, mean_squared_error, mean_absolute_error"
   ]
  },
  {
   "cell_type": "code",
   "execution_count": 4,
   "id": "b2c7f53e-b6bd-4ab3-b53b-49b78342c7b2",
   "metadata": {},
   "outputs": [],
   "source": [
    "\"\"\"\n",
    "Удаление выбросов с использованием межквартильного размаха (IQR)\n",
    "\"\"\"\n",
    "def get_filter_df(df, col):\n",
    "    # Определяем Q1 и Q3 квартили\n",
    "    Q1 = df[col].quantile(0.25)\n",
    "    Q3 = df[col].quantile(0.75)\n",
    "    \n",
    "    # Вычисляем IQR\n",
    "    IQR = Q3 - Q1\n",
    "    \n",
    "    # Определяем границы для определения выбросов\n",
    "    lower_bound = Q1 - 1.5 * IQR\n",
    "    upper_bound = Q3 + 1.5 * IQR\n",
    "    \n",
    "    # Фильтруем выбросы\n",
    "    return df[(df[col] >= lower_bound) & (df[col] <= upper_bound)]"
   ]
  },
  {
   "cell_type": "code",
   "execution_count": 5,
   "id": "ddcfeac3-5562-40d0-81b8-b4ddd10e995c",
   "metadata": {},
   "outputs": [],
   "source": [
    "\"\"\"\n",
    "Нормализация данных\n",
    "\"\"\"\n",
    "def get_norm_data(df, col):\n",
    "    col_mean = df[col].mean()\n",
    "    col_var = df[col].var()\n",
    "    df[col] = (df[col] - col_mean)/col_var\n",
    "    return df, col_mean, col_var"
   ]
  },
  {
   "cell_type": "markdown",
   "id": "f214a0df-c8f0-47f9-95eb-ea2f38ead37b",
   "metadata": {},
   "source": [
    "## Исхоные данные"
   ]
  },
  {
   "cell_type": "code",
   "execution_count": 6,
   "id": "15b60a4d-eb4f-498a-b758-19f75a62d785",
   "metadata": {},
   "outputs": [
    {
     "name": "stdout",
     "output_type": "stream",
     "text": [
      "  borehole             x            y       z     h    E     z_h\n",
      "0       51  97607.570697  4338.997129  76.631  0.00  0.0  76.631\n",
      "1       51  97607.570697  4338.997129  76.631  0.05  6.0  76.581\n",
      "2       51  97607.570697  4338.997129  76.631  0.10  6.0  76.531\n",
      "3       51  97607.570697  4338.997129  76.631  0.15  6.0  76.481\n",
      "4       51  97607.570697  4338.997129  76.631  0.20  6.0  76.431 (24429, 7)\n"
     ]
    }
   ],
   "source": [
    "\"\"\"\n",
    "Чтение информации о скважинах\n",
    "\"\"\"\n",
    "df_boreholes = df_boreholes = pd.read_excel(f\"data/координаты_скважин.xlsx\")\n",
    "house_3 = pd.read_excel(\"data/house_3_local.xlsx\")\n",
    "\n",
    "all_E = pd.DataFrame(columns=[\"borehole\", \"x\", \"y\", \"z\", \"h\", \"E\"])\n",
    "\n",
    "for borehole in house_3[\"тсз\"]:\n",
    "    \"\"\"\n",
    "    Запись данных по скважинам в один датафрейм\n",
    "    \"\"\"\n",
    "    borehole_info = house_3[house_3[\"тсз\"]==borehole]\n",
    "    df_now = pd.read_excel(f\"data/тсз{borehole}.xlsx\")\n",
    "    df_now = get_filter_df(df_now, \"E\").loc[:, [\"h\", \"E\"]]\n",
    "    \n",
    "    df_now[\"borehole\"] = borehole \n",
    "    df_now[\"x\"] = borehole_info[\"x\"].iloc[0]\n",
    "    df_now[\"y\"] = borehole_info[\"y\"].iloc[0]\n",
    "    df_now[\"z\"] = borehole_info[\"z\"].iloc[0]\n",
    "\n",
    "    all_E = pd.concat([all_E, df_now], ignore_index=True)\n",
    "\n",
    "all_E[\"z_h\"] = all_E[\"z\"] - all_E[\"h\"]\n",
    "print(all_E.head(), all_E.shape)\n",
    "\n",
    "\"\"\"\n",
    "Деление без остатка абсолютной отметки на 1 и запись значение в 'group'\n",
    "группировка и вычисление средних значений\n",
    "\"\"\"\n",
    "all_E[\"group\"] = all_E[\"z_h\"]//1\n",
    "group_E = all_E.groupby(by=[\"group\", \"borehole\"]).mean()\n",
    "group_E[\"group\"] = [int(x[0]) for x in group_E.index]\n",
    "group_E[\"borehole\"] = [int(x[1]) for x in group_E.index]\n",
    "\n",
    "\"\"\"\n",
    "Коэф. перехода значений X и Y к размерам реального фундамента, при условии что крайние точки лежат на периметре фундамента\n",
    "\"\"\"\n",
    "coeff_dist_Y = 27/np.linalg.norm(house_3.query(\"тсз == 59\").loc[:, [\"x\", \"y\"]].to_numpy() - house_3.query(\"тсз == 51\").loc[:, [\"x\", \"y\"]].to_numpy())\n",
    "coeff_dist_X = 26/np.linalg.norm(house_3.query(\"тсз == 123\").loc[:, [\"x\", \"y\"]].to_numpy() - house_3.query(\"тсз == 51\").loc[:, [\"x\", \"y\"]].to_numpy())"
   ]
  },
  {
   "cell_type": "markdown",
   "id": "b409a393-61bc-4fca-a301-ab3de9d7f556",
   "metadata": {},
   "source": [
    "## 2d кригинг"
   ]
  },
  {
   "cell_type": "code",
   "execution_count": 7,
   "id": "1a29e5c7-258e-46b1-8a68-cd03fedde75e",
   "metadata": {},
   "outputs": [
    {
     "name": "stdout",
     "output_type": "stream",
     "text": [
      "10.345074114513185 10.622355164573317\n",
      "8.677544855559955 9.577631578947368\n",
      "(15,) 0.22998274427862087 2.0413821383148623\n"
     ]
    }
   ],
   "source": [
    "\"\"\"\n",
    "Тренировочная выборка - рассматривается часть точек в плане\n",
    "Тестовая выборка - оставшиеся точки в плане\n",
    "\"\"\"\n",
    "\n",
    "boreholes_train = [51, 55, 59, \n",
    "                   69, 73, 77, \n",
    "                   87, 91, 95, \n",
    "                   105, 109, 113,\n",
    "                   123, 127, 131,\n",
    "                  ]\n",
    "\n",
    "model = 'exponential'\n",
    "df_now = group_E.query('group == 65')\n",
    "\n",
    "\"\"\"\n",
    "Разбивка определенных скважин\n",
    "\"\"\"\n",
    "data_train = df_now.query('borehole in @boreholes_train')\n",
    "data_train, mean_train, var_train = get_norm_data(data_train, \"E\")\n",
    "\n",
    "data_test = df_now.query('borehole not in @boreholes_train')\n",
    "data_test, mean_test, var_test = get_norm_data(data_test, \"E\")\n",
    "\n",
    "x_train = data_train.loc[:, [\"x\", \"y\"]].to_numpy()\n",
    "x_test = data_test.loc[:, [\"x\", \"y\"]].to_numpy()\n",
    "target_train = data_train.loc[:, [\"E\"]].to_numpy().reshape(-1)\n",
    "target_test = data_test.loc[:, [\"E\"]].to_numpy().reshape(-1)\n",
    "\"\"\"\n",
    "Кригинг\n",
    "\"\"\"\n",
    "x = x_train[:, 0]\n",
    "y = x_train[:, 1]\n",
    "E = target_train\n",
    "\n",
    "UK = UniversalKriging(x, \n",
    "                          y, \n",
    "                          E, \n",
    "                          variogram_model=model,\n",
    "                          #variogram_parameters={'sill':28, 'range': 50, 'nugget': 1}\n",
    "                         )\n",
    "\n",
    "predict_test, var = UK.execute('points', x_test[:, 0], x_test[:, 1])\n",
    "\n",
    "target_test = target_test * var_test + mean_test\n",
    "predict_test = predict_test * var_train + mean_train\n",
    "print(var_test, mean_test)\n",
    "print(var_train, mean_train)\n",
    "print(target_train.shape, r2_score(target_test, predict_test), mean_absolute_error(target_test, predict_test))"
   ]
  }
 ],
 "metadata": {
  "kernelspec": {
   "display_name": "Python 3 (ipykernel)",
   "language": "python",
   "name": "python3"
  },
  "language_info": {
   "codemirror_mode": {
    "name": "ipython",
    "version": 3
   },
   "file_extension": ".py",
   "mimetype": "text/x-python",
   "name": "python",
   "nbconvert_exporter": "python",
   "pygments_lexer": "ipython3",
   "version": "3.8.5"
  }
 },
 "nbformat": 4,
 "nbformat_minor": 5
}
