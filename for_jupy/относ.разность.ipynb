{
 "cells": [
  {
   "cell_type": "code",
   "execution_count": 1,
   "id": "751e3269",
   "metadata": {},
   "outputs": [],
   "source": [
    "import pandas as pd\n",
    "import numpy as np"
   ]
  },
  {
   "cell_type": "code",
   "execution_count": 2,
   "id": "3342d280",
   "metadata": {},
   "outputs": [
    {
     "name": "stdout",
     "output_type": "stream",
     "text": [
      "Relative difference of sedimentation rates:\n",
      "[[0.         7.07106781 7.07106781 7.07106781 7.07106781]\n",
      " [7.07106781 0.         7.07106781 7.07106781 7.07106781]\n",
      " [7.07106781 7.07106781 0.         7.07106781 7.07106781]\n",
      " [7.07106781 7.07106781 7.07106781 0.         7.07106781]\n",
      " [7.07106781 7.07106781 7.07106781 7.07106781 0.        ]]\n"
     ]
    }
   ],
   "source": [
    "def get_sett(points, v):\n",
    "\n",
    "    def calculate_distances(x, y):\n",
    "        X, Y = np.meshgrid(x, y)\n",
    "        distances = np.sqrt((X - X.T)**2 + (Y - Y.T)**2)\n",
    "        return distances\n",
    "    \n",
    "    def calculate_diff(x):\n",
    "        X, X_T = np.meshgrid(x, x)\n",
    "        x_differences = X - X_T\n",
    "        return x_differences\n",
    "\n",
    "    x = points[:, 0]\n",
    "    y = points[:, 1]\n",
    "    \n",
    "    dist = calculate_distances(x, y) + np.eye(v.shape[0])\n",
    "    diff = calculate_diff(v) + np.eye(v.shape[0])\n",
    "    result = np.abs(diff/dist) - np.eye(v.shape[0])\n",
    "    \n",
    "    return result\n",
    "            \n",
    "# Example usage:\n",
    "x = np.array([1, 2, 3, 4, 5])\n",
    "y = np.array([1, 2, 3, 4, 5])\n",
    "volume = np.array([10, 20, 30, 40, 50])\n",
    "\n",
    "rel_diff = get_sett(np.array([x, y]).T, volume)\n",
    "print(\"Relative difference of sedimentation rates:\")\n",
    "print(rel_diff)    "
   ]
  },
  {
   "cell_type": "code",
   "execution_count": 3,
   "id": "aa80487c",
   "metadata": {},
   "outputs": [],
   "source": [
    "list_df = pd.read_excel(\"uz_result_cube.XLSX\", sheet_name=None)"
   ]
  },
  {
   "cell_type": "code",
   "execution_count": 4,
   "id": "cd4b755b",
   "metadata": {},
   "outputs": [],
   "source": [
    "list_df_new = {}\n",
    "for key in list_df.keys():\n",
    "    df_now = list_df[key].copy()\n",
    "    df_now = df_now.query(\"X <= 25 & X >= 0\")\n",
    "    df_now = df_now.query(\"Y <= 25 & Y >= 0\")\n",
    "    df_now = df_now.query(\"Z == 0\")\n",
    "    df_now[\"group1\"] = df_now[\"X\"]//0.1\n",
    "    df_now[\"group2\"] = df_now[\"Y\"]//0.1\n",
    "    df_now[\"X\"] = df_now[\"group1\"]/10\n",
    "    df_now[\"Y\"] = df_now[\"group2\"]/10\n",
    "    df_now = df_now.groupby(by=[\"group1\", \"group2\"]).mean()\n",
    "    list_df_new[key] = df_now.loc[:, [\"X\", \"Y\", \"Z\", \"u_z\"]]"
   ]
  },
  {
   "cell_type": "code",
   "execution_count": 5,
   "id": "4a20cdde",
   "metadata": {},
   "outputs": [
    {
     "data": {
      "text/html": [
       "<div>\n",
       "<style scoped>\n",
       "    .dataframe tbody tr th:only-of-type {\n",
       "        vertical-align: middle;\n",
       "    }\n",
       "\n",
       "    .dataframe tbody tr th {\n",
       "        vertical-align: top;\n",
       "    }\n",
       "\n",
       "    .dataframe thead th {\n",
       "        text-align: right;\n",
       "    }\n",
       "</style>\n",
       "<table border=\"1\" class=\"dataframe\">\n",
       "  <thead>\n",
       "    <tr style=\"text-align: right;\">\n",
       "      <th></th>\n",
       "      <th></th>\n",
       "      <th>X</th>\n",
       "      <th>Y</th>\n",
       "      <th>Z</th>\n",
       "      <th>u_z</th>\n",
       "    </tr>\n",
       "    <tr>\n",
       "      <th>group1</th>\n",
       "      <th>group2</th>\n",
       "      <th></th>\n",
       "      <th></th>\n",
       "      <th></th>\n",
       "      <th></th>\n",
       "    </tr>\n",
       "  </thead>\n",
       "  <tbody>\n",
       "    <tr>\n",
       "      <th rowspan=\"5\" valign=\"top\">0.0</th>\n",
       "      <th>0.0</th>\n",
       "      <td>0.0</td>\n",
       "      <td>0.0</td>\n",
       "      <td>0.0</td>\n",
       "      <td>-0.114764</td>\n",
       "    </tr>\n",
       "    <tr>\n",
       "      <th>8.0</th>\n",
       "      <td>0.0</td>\n",
       "      <td>0.8</td>\n",
       "      <td>0.0</td>\n",
       "      <td>-0.120533</td>\n",
       "    </tr>\n",
       "    <tr>\n",
       "      <th>17.0</th>\n",
       "      <td>0.0</td>\n",
       "      <td>1.7</td>\n",
       "      <td>0.0</td>\n",
       "      <td>-0.126194</td>\n",
       "    </tr>\n",
       "    <tr>\n",
       "      <th>26.0</th>\n",
       "      <td>0.0</td>\n",
       "      <td>2.6</td>\n",
       "      <td>0.0</td>\n",
       "      <td>-0.131677</td>\n",
       "    </tr>\n",
       "    <tr>\n",
       "      <th>35.0</th>\n",
       "      <td>0.0</td>\n",
       "      <td>3.5</td>\n",
       "      <td>0.0</td>\n",
       "      <td>-0.136899</td>\n",
       "    </tr>\n",
       "    <tr>\n",
       "      <th>...</th>\n",
       "      <th>...</th>\n",
       "      <td>...</td>\n",
       "      <td>...</td>\n",
       "      <td>...</td>\n",
       "      <td>...</td>\n",
       "    </tr>\n",
       "    <tr>\n",
       "      <th rowspan=\"5\" valign=\"top\">249.0</th>\n",
       "      <th>214.0</th>\n",
       "      <td>24.9</td>\n",
       "      <td>21.4</td>\n",
       "      <td>0.0</td>\n",
       "      <td>-0.131933</td>\n",
       "    </tr>\n",
       "    <tr>\n",
       "      <th>223.0</th>\n",
       "      <td>24.9</td>\n",
       "      <td>22.3</td>\n",
       "      <td>0.0</td>\n",
       "      <td>-0.126835</td>\n",
       "    </tr>\n",
       "    <tr>\n",
       "      <th>232.0</th>\n",
       "      <td>24.9</td>\n",
       "      <td>23.2</td>\n",
       "      <td>0.0</td>\n",
       "      <td>-0.121468</td>\n",
       "    </tr>\n",
       "    <tr>\n",
       "      <th>241.0</th>\n",
       "      <td>24.9</td>\n",
       "      <td>24.1</td>\n",
       "      <td>0.0</td>\n",
       "      <td>-0.115915</td>\n",
       "    </tr>\n",
       "    <tr>\n",
       "      <th>249.0</th>\n",
       "      <td>24.9</td>\n",
       "      <td>24.9</td>\n",
       "      <td>0.0</td>\n",
       "      <td>-0.110248</td>\n",
       "    </tr>\n",
       "  </tbody>\n",
       "</table>\n",
       "<p>973 rows × 4 columns</p>\n",
       "</div>"
      ],
      "text/plain": [
       "                  X     Y    Z       u_z\n",
       "group1 group2                           \n",
       "0.0    0.0      0.0   0.0  0.0 -0.114764\n",
       "       8.0      0.0   0.8  0.0 -0.120533\n",
       "       17.0     0.0   1.7  0.0 -0.126194\n",
       "       26.0     0.0   2.6  0.0 -0.131677\n",
       "       35.0     0.0   3.5  0.0 -0.136899\n",
       "...             ...   ...  ...       ...\n",
       "249.0  214.0   24.9  21.4  0.0 -0.131933\n",
       "       223.0   24.9  22.3  0.0 -0.126835\n",
       "       232.0   24.9  23.2  0.0 -0.121468\n",
       "       241.0   24.9  24.1  0.0 -0.115915\n",
       "       249.0   24.9  24.9  0.0 -0.110248\n",
       "\n",
       "[973 rows x 4 columns]"
      ]
     },
     "execution_count": 5,
     "metadata": {},
     "output_type": "execute_result"
    }
   ],
   "source": [
    "list_df_new[\"uk_all\"].query(\"Z == 0\")"
   ]
  },
  {
   "cell_type": "code",
   "execution_count": 6,
   "id": "0fcfa9e8",
   "metadata": {},
   "outputs": [
    {
     "name": "stdout",
     "output_type": "stream",
     "text": [
      "uk_all 0.002262 0.009965\n",
      "geo 0.001832 0.007847\n",
      "uk 0.00225 0.009836\n",
      "poly 0.002263 0.009842\n"
     ]
    }
   ],
   "source": [
    "for key in list_df_new.keys():\n",
    "    points = list_df_new[key].query(\"Z == 0\").loc[:, [\"X\", \"Y\"]].to_numpy()\n",
    "    u = list_df_new[key].query(\"Z == 0\")[\"u_z\"].to_numpy()\n",
    "\n",
    "    #pd.DataFrame(get_sett(points, u)).isna().sum()\n",
    "    sett = get_sett(points, u)\n",
    "    print(key, round(np.mean(sett), 6), round(np.max(sett), 6))"
   ]
  },
  {
   "cell_type": "code",
   "execution_count": null,
   "id": "b2385f75",
   "metadata": {},
   "outputs": [],
   "source": []
  }
 ],
 "metadata": {
  "kernelspec": {
   "display_name": "Python 3 (ipykernel)",
   "language": "python",
   "name": "python3"
  },
  "language_info": {
   "codemirror_mode": {
    "name": "ipython",
    "version": 3
   },
   "file_extension": ".py",
   "mimetype": "text/x-python",
   "name": "python",
   "nbconvert_exporter": "python",
   "pygments_lexer": "ipython3",
   "version": "3.10.11"
  }
 },
 "nbformat": 4,
 "nbformat_minor": 5
}
