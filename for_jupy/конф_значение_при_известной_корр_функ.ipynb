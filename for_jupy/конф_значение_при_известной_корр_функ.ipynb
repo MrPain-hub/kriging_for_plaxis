{
 "cells": [
  {
   "cell_type": "code",
   "execution_count": 32,
   "id": "12a0d07e-974d-4702-8aad-1c6a1b81ce4c",
   "metadata": {},
   "outputs": [],
   "source": [
    "import pandas as pd\n",
    "import numpy as np\n",
    "from matplotlib import pyplot as plt\n",
    "\n",
    "from sklearn.model_selection import train_test_split"
   ]
  },
  {
   "cell_type": "code",
   "execution_count": 33,
   "id": "992a92f4-8272-424a-8239-b25e7eb4fdef",
   "metadata": {},
   "outputs": [],
   "source": [
    "from my_func_module.func_for_corr import *"
   ]
  },
  {
   "cell_type": "code",
   "execution_count": 34,
   "id": "c014bd51-6466-4604-87f5-9e7ca69c9ccd",
   "metadata": {},
   "outputs": [
    {
     "name": "stdout",
     "output_type": "stream",
     "text": [
      "Предсказанное значение в неизвестной точке: 2.3249999999999997\n"
     ]
    }
   ],
   "source": [
    "def predict_value(corr_matrix, known_values, corr_with_unknown):\n",
    "    \"\"\"\n",
    "    Определение значения в неизвестной точке на основе корреляционной матрицы и значений в известных точках.\n",
    "\n",
    "    Parameters:\n",
    "    corr_matrix (numpy.ndarray): Корреляционная матрица (n x n) для известных точек.\n",
    "    known_values (numpy.ndarray): Вектор значений в известных точках (n).\n",
    "    corr_with_unknown (numpy.ndarray): Вектор корреляций между известными точками и неизвестной точкой (n).\n",
    "\n",
    "    Returns:\n",
    "    float: Предсказанное значение в неизвестной точке.\n",
    "    \"\"\"\n",
    "    # Решаем систему R * λ = r для нахождения вектора весов λ\n",
    "    lambdas = np.linalg.solve(corr_matrix, corr_with_unknown)\n",
    "\n",
    "    # Вычисляем значение в неизвестной точке как линейную комбинацию известных значений\n",
    "    predicted_value = np.dot(lambdas, known_values)\n",
    "\n",
    "    return predicted_value\n",
    "\n",
    "# Пример данных\n",
    "corr_matrix = np.array([\n",
    "    [1.0, 0.8, 0.5],\n",
    "    [0.8, 1.0, 0.3],\n",
    "    [0.5, 0.3, 1.0]\n",
    "])\n",
    "\n",
    "known_values = np.array([3.0, 2.5, 4.0])  # Значения в известных точках\n",
    "corr_with_unknown = np.array([0.7, 0.6, 0.4])  # Корреляция между известными точками и неизвестной\n",
    "\n",
    "# Предсказание значения в неизвестной точке\n",
    "predicted_value = predict_value(corr_matrix, known_values, corr_with_unknown)\n",
    "print(f\"Предсказанное значение в неизвестной точке: {predicted_value}\")"
   ]
  },
  {
   "cell_type": "markdown",
   "id": "59141bb9-7d09-4250-832b-2a2761d3eb0c",
   "metadata": {},
   "source": [
    "# Разбивка данных"
   ]
  },
  {
   "cell_type": "code",
   "execution_count": 35,
   "id": "2417c728-c13f-4cbe-b22a-cf92a88e74b8",
   "metadata": {},
   "outputs": [
    {
     "name": "stderr",
     "output_type": "stream",
     "text": [
      "C:\\Users\\lix96\\AppData\\Local\\Temp\\ipykernel_13820\\516161752.py:22: FutureWarning: The behavior of DataFrame concatenation with empty or all-NA entries is deprecated. In a future version, this will no longer exclude empty or all-NA columns when determining the result dtypes. To retain the old behavior, exclude the relevant entries before the concat operation.\n",
      "  all_E = pd.concat([all_E, df_now], ignore_index=True)\n"
     ]
    },
    {
     "name": "stdout",
     "output_type": "stream",
     "text": [
      "  borehole             x            y       z     h    E     z_h\n",
      "0       51  97607.570697  4338.997129  76.631  0.00  0.0  76.631\n",
      "1       51  97607.570697  4338.997129  76.631  0.05  6.0  76.581\n",
      "2       51  97607.570697  4338.997129  76.631  0.10  6.0  76.531\n",
      "3       51  97607.570697  4338.997129  76.631  0.15  6.0  76.481\n",
      "4       51  97607.570697  4338.997129  76.631  0.20  6.0  76.431 (24429, 7)\n"
     ]
    }
   ],
   "source": [
    "\"\"\"\n",
    "Чтение информации о скважинах\n",
    "\"\"\"\n",
    "df_boreholes = df_boreholes = pd.read_excel(f\"data/координаты_скважин.xlsx\")\n",
    "house_3 = pd.read_excel(\"data/house_3_local.xlsx\")\n",
    "\n",
    "all_E = pd.DataFrame(columns=[\"borehole\", \"x\", \"y\", \"z\", \"h\", \"E\"])\n",
    "\n",
    "for borehole in house_3[\"тсз\"]:\n",
    "    \"\"\"\n",
    "    Запись данных по скважинам в один датафрейм\n",
    "    \"\"\"\n",
    "    borehole_info = house_3[house_3[\"тсз\"]==borehole]\n",
    "    df_now = pd.read_excel(f\"data/тсз{borehole}.xlsx\")\n",
    "    df_now = get_filter_df(df_now, \"E\").loc[:, [\"h\", \"E\"]]\n",
    "    \n",
    "    df_now[\"borehole\"] = borehole \n",
    "    df_now[\"x\"] = borehole_info[\"x\"].iloc[0]\n",
    "    df_now[\"y\"] = borehole_info[\"y\"].iloc[0]\n",
    "    df_now[\"z\"] = borehole_info[\"z\"].iloc[0]\n",
    "\n",
    "    all_E = pd.concat([all_E, df_now], ignore_index=True)\n",
    "\n",
    "all_E[\"z_h\"] = all_E[\"z\"] - all_E[\"h\"]\n",
    "print(all_E.head(), all_E.shape)\n",
    "\n",
    "\"\"\"\n",
    "Деление без остатка абсолютной отметки на 1 и запись значение в 'group'\n",
    "группировка и вычисление средних значений\n",
    "\"\"\"\n",
    "all_E[\"group\"] = all_E[\"z_h\"]//1\n",
    "group_E = all_E.groupby(by=[\"group\", \"borehole\"]).mean()\n",
    "group_E[\"group\"] = [int(x[0]) for x in group_E.index]\n",
    "group_E[\"borehole\"] = [int(x[1]) for x in group_E.index]"
   ]
  },
  {
   "cell_type": "code",
   "execution_count": 36,
   "id": "b9b00479-4256-4b31-b59a-2451eb30f65b",
   "metadata": {},
   "outputs": [],
   "source": [
    "\"\"\"\n",
    "Случайная разбивка данных\n",
    "\"\"\"\n",
    "df_now = group_E.query('group == 65')\n",
    "\n",
    "p = df_now.loc[:, [\"x\", \"y\"]].to_numpy() # Выборка для модели регрессии\n",
    "x = df_now.loc[:, [\"x\", \"y\"]].to_numpy() # Выборка для кригинга\n",
    "target = df_now[\"E\"].to_numpy() # Известные значения\n",
    "\n",
    "p_train, p_test, x_train, x_test, target_train, target_test = train_test_split(\n",
    "    p, x, target, test_size=0.3, random_state=123\n",
    ")"
   ]
  },
  {
   "cell_type": "markdown",
   "id": "e4980ca3-495c-4e56-8ff4-18906ef307cb",
   "metadata": {},
   "source": [
    "# Расчеты"
   ]
  },
  {
   "cell_type": "code",
   "execution_count": 43,
   "id": "f48f7a4e-66df-4438-9c25-bea7d91ebcfd",
   "metadata": {},
   "outputs": [
    {
     "data": {
      "text/plain": [
       "array([[97546.68443701,  4340.93947698],\n",
       "       [97594.87357501,  4429.65846098],\n",
       "       [97528.48212001,  4375.98916598],\n",
       "       [97543.80515101,  4340.61596198],\n",
       "       [97530.76455301,  4419.38243398],\n",
       "       [97570.67634601,  4403.26256098],\n",
       "       [97527.95544001,  4352.23663398],\n",
       "       [97549.64799001,  4393.84903398],\n",
       "       [97598.76120001,  4373.04023998],\n",
       "       [97589.09130301,  4362.39957298],\n",
       "       [97533.21933901,  4340.96620598],\n",
       "       [97566.97086301,  4351.33440498],\n",
       "       [97607.29524601,  4350.54613298],\n",
       "       [97541.03504401,  4430.97643498],\n",
       "       [97598.60321701,  4362.18466898],\n",
       "       [97529.23081801,  4386.81451098],\n",
       "       [97600.37871601,  4391.85240098],\n",
       "       [97560.07663201,  4403.50471098],\n",
       "       [97600.29877801,  4418.17577398],\n",
       "       [97591.54559701,  4429.17091098],\n",
       "       [97557.11436301,  4340.41823198],\n",
       "       [97611.06469501,  4402.80373598],\n",
       "       [97540.72685701,  4420.10598698],\n",
       "       [97573.72175701,  4374.14913598],\n",
       "       [97571.59511101,  4430.76896898],\n",
       "       [97541.11279801,  4404.23308198],\n",
       "       [97571.27004901,  4419.44267298],\n",
       "       [97600.64886601,  4402.14723498],\n",
       "       [97608.41689501,  4429.44513898],\n",
       "       [97587.81410401,  4339.25940998],\n",
       "       [97599.26458501,  4384.23063498],\n",
       "       [97589.52717001,  4383.85638998],\n",
       "       [97597.64812801,  4350.73965298],\n",
       "       [97548.98496301,  4385.59286598],\n",
       "       [97610.95441501,  4410.58833998],\n",
       "       [97537.31670301,  4352.10412698],\n",
       "       [97609.33889101,  4372.94029498],\n",
       "       [97569.53676001,  4385.06566098],\n",
       "       [97580.73008401,  4419.00349798],\n",
       "       [97572.80140201,  4340.02566798],\n",
       "       [97561.11502201,  4419.75055098],\n",
       "       [97610.68290301,  4418.39545798],\n",
       "       [97558.31170801,  4374.22145298],\n",
       "       [97551.18784201,  4419.71429498],\n",
       "       [97539.87247801,  4340.56487998],\n",
       "       [97528.02741601,  4360.17338898],\n",
       "       [97568.17451401,  4373.76836798],\n",
       "       [97608.00172501,  4361.00962398],\n",
       "       [97539.33126301,  4386.14940098],\n",
       "       [97546.77978301,  4351.82296098],\n",
       "       [97558.83913501,  4385.35250798],\n",
       "       [97540.19982901,  4392.94765098],\n",
       "       [97531.08702001,  4432.14382498],\n",
       "       [97567.10636101,  4339.15617698],\n",
       "       [97530.33998101,  4403.82333498],\n",
       "       [97527.47745901,  4348.82237598],\n",
       "       [97590.94155901,  4418.14941998],\n",
       "       [97556.85652201,  4351.56682998],\n",
       "       [97574.67366901,  4392.57714498],\n",
       "       [97527.87794101,  4352.21615498],\n",
       "       [97558.70681101,  4362.91993598],\n",
       "       [97605.28681201,  4429.73508798],\n",
       "       [97548.37777501,  4374.53568798],\n",
       "       [97611.44518801,  4422.28516898],\n",
       "       [97601.38729501,  4429.38208798],\n",
       "       [97530.10569001,  4341.48468598],\n",
       "       [97538.62470901,  4374.18527698]])"
      ]
     },
     "execution_count": 43,
     "metadata": {},
     "output_type": "execute_result"
    }
   ],
   "source": [
    "x_train"
   ]
  },
  {
   "cell_type": "code",
   "execution_count": 51,
   "id": "7a647734-6e38-4e73-bd84-743a4791a1b4",
   "metadata": {},
   "outputs": [
    {
     "data": {
      "image/png": "[encoded data removed]",
      "text/plain": [
       "<Figure size 640x480 with 1 Axes>"
      ]
     },
     "metadata": {},
     "output_type": "display_data"
    },
    {
     "name": "stdout",
     "output_type": "stream",
     "text": [
      "[ 1.          0.66027306         nan  0.72340661  0.44120954         nan\n",
      "  0.96556046  0.62541093  0.24767732 -1.1369006   0.60013988  0.28386237\n",
      "  0.66370386  0.32300828  0.03522545  0.0779001   0.70124228  0.50005883\n",
      "  0.64823745  0.47962742  0.19242501 -0.1369095   0.39101472 -0.18896912\n",
      "  0.09086015  0.4697846   0.01895301 -0.01659091  0.33153734  0.28011032]\n"
     ]
    }
   ],
   "source": [
    "clay_border = [73.5, 65]\n",
    "scale_x = 1\n",
    "corr_size = 30 * scale_x\n",
    "\n",
    "show_plot_flag = False\n",
    "corr_normal = True\n",
    "\n",
    "x_plot, y_plot = get_corr(x_train*scale_x, target_train, corr_size, normal=corr_normal)\n",
    "    \n",
    "\"\"\"\n",
    "Запись коэф. корр. в матрицу\n",
    "\"\"\"\n",
    "#plt.plot(x_plot1, y_plot)\n",
    "plt.plot(x_plot, y_plot, \"--*\")\n",
    "plt.show()\n",
    "print(y_plot)"
   ]
  },
  {
   "cell_type": "code",
   "execution_count": 9,
   "id": "91ad6873-3be7-4b9d-8060-68ceac291452",
   "metadata": {},
   "outputs": [
    {
     "name": "stdout",
     "output_type": "stream",
     "text": [
      "Предсказанное значение в неизвестной точке: 2.3249999999999997\n"
     ]
    }
   ],
   "source": [
    "# Пример данных\n",
    "corr_matrix = np.array([\n",
    "    [1.0, 0.8, 0.5],\n",
    "    [0.8, 1.0, 0.3],\n",
    "    [0.5, 0.3, 1.0]\n",
    "])\n",
    "\n",
    "known_values = np.array([3.0, 2.5, 4.0])  # Значения в известных точках\n",
    "corr_with_unknown = np.array([0.7, 0.6, 0.4])  # Корреляция между известными точками и неизвестной\n",
    "\n",
    "# Предсказание значения в неизвестной точке\n",
    "predicted_value = predict_value(corr_matrix, known_values, corr_with_unknown)\n",
    "print(f\"Предсказанное значение в неизвестной точке: {predicted_value}\")"
   ]
  },
  {
   "cell_type": "code",
   "execution_count": 23,
   "id": "2d5ef166-dd89-405a-beed-64d14d2f2cfd",
   "metadata": {},
   "outputs": [
    {
     "data": {
      "text/plain": [
       "array([[9.75466844e+04, 4.34093948e+03, 7.46000000e+00],\n",
       "       [9.75948736e+04, 4.42965846e+03, 7.35500000e+00],\n",
       "       [9.75284821e+04, 4.37598917e+03, 7.52000000e+00],\n",
       "       [9.75438052e+04, 4.34061596e+03, 7.90500000e+00],\n",
       "       [9.75307646e+04, 4.41938243e+03, 6.95000000e+00],\n",
       "       [9.75706763e+04, 4.40326256e+03, 1.38950000e+01],\n",
       "       [9.75279554e+04, 4.35223663e+03, 8.21500000e+00],\n",
       "       [9.75496480e+04, 4.39384903e+03, 1.30526316e+01],\n",
       "       [9.75987612e+04, 4.37304024e+03, 9.61500000e+00],\n",
       "       [9.75890913e+04, 4.36239957e+03, 1.06900000e+01],\n",
       "       [9.75332193e+04, 4.34096621e+03, 6.93000000e+00],\n",
       "       [9.75669709e+04, 4.35133440e+03, 7.89500000e+00],\n",
       "       [9.76072952e+04, 4.35054613e+03, 1.51666667e+01],\n",
       "       [9.75410350e+04, 4.43097643e+03, 7.67500000e+00],\n",
       "       [9.75986032e+04, 4.36218467e+03, 8.93500000e+00],\n",
       "       [9.75292308e+04, 4.38681451e+03, 7.04000000e+00],\n",
       "       [9.76003787e+04, 4.39185240e+03, 1.17500000e+01],\n",
       "       [9.75600766e+04, 4.40350471e+03, 9.76500000e+00],\n",
       "       [9.76002988e+04, 4.41817577e+03, 1.03150000e+01],\n",
       "       [9.75915456e+04, 4.42917091e+03, 1.08950000e+01],\n",
       "       [9.75571144e+04, 4.34041823e+03, 8.52500000e+00],\n",
       "       [9.76110647e+04, 4.40280374e+03, 8.97500000e+00],\n",
       "       [9.75407269e+04, 4.42010599e+03, 6.97500000e+00],\n",
       "       [9.75737218e+04, 4.37414914e+03, 1.33550000e+01],\n",
       "       [9.75715951e+04, 4.43076897e+03, 1.06550000e+01],\n",
       "       [9.75411128e+04, 4.40423308e+03, 8.42500000e+00],\n",
       "       [9.75712700e+04, 4.41944267e+03, 1.34600000e+01],\n",
       "       [9.76006489e+04, 4.40214723e+03, 1.02050000e+01],\n",
       "       [9.76084169e+04, 4.42944514e+03, 1.19550000e+01],\n",
       "       [9.75878141e+04, 4.33925941e+03, 1.26500000e+01],\n",
       "       [9.75992646e+04, 4.38423063e+03, 7.36000000e+00],\n",
       "       [9.75895272e+04, 4.38385639e+03, 1.10400000e+01],\n",
       "       [9.75976481e+04, 4.35073965e+03, 1.12500000e+01],\n",
       "       [9.75489850e+04, 4.38559287e+03, 7.00000000e+00],\n",
       "       [9.76109544e+04, 4.41058834e+03, 9.36500000e+00],\n",
       "       [9.75373167e+04, 4.35210413e+03, 1.18950000e+01],\n",
       "       [9.76093389e+04, 4.37294029e+03, 8.22500000e+00],\n",
       "       [9.75695368e+04, 4.38506566e+03, 1.39000000e+01],\n",
       "       [9.75807301e+04, 4.41900350e+03, 1.40350000e+01],\n",
       "       [9.75728014e+04, 4.34002567e+03, 1.01833333e+01],\n",
       "       [9.75611150e+04, 4.41975055e+03, 9.95000000e+00],\n",
       "       [9.76106829e+04, 4.41839546e+03, 1.12050000e+01],\n",
       "       [9.75583117e+04, 4.37422145e+03, 1.80050000e+01],\n",
       "       [9.75511878e+04, 4.41971429e+03, 8.00526316e+00],\n",
       "       [9.75398725e+04, 4.34056488e+03, 8.05000000e+00],\n",
       "       [9.75280274e+04, 4.36017339e+03, 7.07500000e+00],\n",
       "       [9.75681745e+04, 4.37376837e+03, 1.49550000e+01],\n",
       "       [9.76080017e+04, 4.36100962e+03, 9.16500000e+00],\n",
       "       [9.75393313e+04, 4.38614940e+03, 7.29500000e+00],\n",
       "       [9.75467798e+04, 4.35182296e+03, 1.25500000e+01],\n",
       "       [9.75588391e+04, 4.38535251e+03, 1.38250000e+01],\n",
       "       [9.75401998e+04, 4.39294765e+03, 7.00000000e+00],\n",
       "       [9.75310870e+04, 4.43214382e+03, 7.16500000e+00],\n",
       "       [9.75671064e+04, 4.33915618e+03, 7.40500000e+00],\n",
       "       [9.75303400e+04, 4.40382333e+03, 7.06500000e+00],\n",
       "       [9.75274775e+04, 4.34882238e+03, 8.58500000e+00],\n",
       "       [9.75909416e+04, 4.41814942e+03, 9.91000000e+00],\n",
       "       [9.75568565e+04, 4.35156683e+03, 9.48000000e+00],\n",
       "       [9.75746737e+04, 4.39257714e+03, 1.92600000e+01],\n",
       "       [9.75278779e+04, 4.35221615e+03, 7.29500000e+00],\n",
       "       [9.75587068e+04, 4.36291994e+03, 1.21000000e+01],\n",
       "       [9.76052868e+04, 4.42973509e+03, 1.52250000e+01],\n",
       "       [9.75483778e+04, 4.37453569e+03, 1.13200000e+01],\n",
       "       [9.76114452e+04, 4.42228517e+03, 1.14600000e+01],\n",
       "       [9.76013873e+04, 4.42938209e+03, 1.03100000e+01],\n",
       "       [9.75301057e+04, 4.34148469e+03, 7.93000000e+00],\n",
       "       [9.75386247e+04, 4.37418528e+03, 7.05000000e+00]])"
      ]
     },
     "execution_count": 23,
     "metadata": {},
     "output_type": "execute_result"
    }
   ],
   "source": [
    "np.concatenate([x_train, target_train.reshape(-1, 1)], axis=1)"
   ]
  },
  {
   "cell_type": "code",
   "execution_count": 30,
   "id": "0aa20c38-f719-4a34-9d85-87135c02da30",
   "metadata": {},
   "outputs": [
    {
     "name": "stdout",
     "output_type": "stream",
     "text": [
      "Корреляционная матрица:\n",
      "[[ 1.29801438e-002  0.00000000e+000  0.00000000e+000 ... -0.00000000e+000\n",
      "   1.90469724e-062  1.15061167e-256]\n",
      " [ 0.00000000e+000  1.40307786e-002  0.00000000e+000 ... -6.13102532e-013\n",
      "   0.00000000e+000  0.00000000e+000]\n",
      " [ 0.00000000e+000  0.00000000e+000  1.23981361e-002 ... -0.00000000e+000\n",
      "   8.30532608e-262  1.32095221e-025]\n",
      " ...\n",
      " [-0.00000000e+000 -6.13102532e-013 -0.00000000e+000 ...  7.72042341e-005\n",
      "  -0.00000000e+000 -0.00000000e+000]\n",
      " [ 1.90469724e-062  0.00000000e+000  8.30532608e-262 ... -0.00000000e+000\n",
      "   8.77835745e-003  1.34886796e-250]\n",
      " [ 1.15061167e-256  0.00000000e+000  1.32095221e-025 ... -0.00000000e+000\n",
      "   1.34886796e-250  1.73144708e-002]]\n"
     ]
    }
   ],
   "source": [
    "import numpy as np\n",
    "import pandas as pd\n",
    "\n",
    "# Функция для расчета весовой функции, основанной на координатах x и y\n",
    "def weight_function(x1, y1, x2, y2, sigma):\n",
    "    distance_sq = (x1 - x2)**2 + (y1 - y2)**2\n",
    "    return np.exp(-distance_sq / (2 * sigma**2))\n",
    "\n",
    "# Функция для вычисления корреляционной функции с учетом весов\n",
    "def weighted_correlation(data, sigma):\n",
    "    n = len(data)  # количество точек\n",
    "    R = np.zeros((n, n))  # матрица корреляционной функции\n",
    "    \n",
    "    # Рассчитываем взвешенную корреляцию для каждой пары точек\n",
    "    for i in range(n):\n",
    "        for j in range(i, n):\n",
    "            # Координаты и значения для пары точек i и j\n",
    "            x1, y1, h1 = data.iloc[i][['x', 'y', 'h']]\n",
    "            x2, y2, h2 = data.iloc[j][['x', 'y', 'h']]\n",
    "            \n",
    "            # Вычисляем вес на основе расстояния между точками\n",
    "            weight = weight_function(x1, y1, x2, y2, sigma)\n",
    "            \n",
    "            # Корреляция по взвешенным значениям\n",
    "            R[i, j] = weight * (h1 - data['h'].mean()) * (h2 - data['h'].mean())\n",
    "            R[j, i] = R[i, j]  # матрица симметрична\n",
    "    \n",
    "    # Нормализация корреляции\n",
    "    norm_factor = np.sqrt(np.sum((data['h'] - data['h'].mean())**2))\n",
    "    if norm_factor > 0:\n",
    "        R /= norm_factor**2\n",
    "    \n",
    "    return R\n",
    "\n",
    "# Пример данных: координаты (x, y) и значения h\n",
    "data = pd.DataFrame(np.concatenate([x_train, target_train.reshape(-1, 1)], axis=1),\n",
    "                    columns=[\"x\", \"y\", \"h\"]# случайные значения h\n",
    "                   )\n",
    "\n",
    "sigma = 1.0  # параметр весовой функции\n",
    "\n",
    "# Вычисляем взвешенную корреляционную матрицу\n",
    "correlation_matrix = weighted_correlation(data, sigma)\n",
    "\n",
    "# Выводим результат\n",
    "print(\"Корреляционная матрица:\")\n",
    "print(correlation_matrix)"
   ]
  },
  {
   "cell_type": "code",
   "execution_count": null,
   "id": "ee21072d-2ace-4ba1-9ee6-9bd2be0d0ad5",
   "metadata": {},
   "outputs": [],
   "source": []
  }
 ],
 "metadata": {
  "kernelspec": {
   "display_name": "Python 3 (ipykernel)",
   "language": "python",
   "name": "python3"
  },
  "language_info": {
   "codemirror_mode": {
    "name": "ipython",
    "version": 3
   },
   "file_extension": ".py",
   "mimetype": "text/x-python",
   "name": "python",
   "nbconvert_exporter": "python",
   "pygments_lexer": "ipython3",
   "version": "3.10.11"
  }
 },
 "nbformat": 4,
 "nbformat_minor": 5
}
